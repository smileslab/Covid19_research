{
 "cells": [
  {
   "cell_type": "markdown",
   "metadata": {},
   "source": [
    "# Import "
   ]
  },
  {
   "cell_type": "code",
   "execution_count": 43,
   "metadata": {},
   "outputs": [],
   "source": [
    "# EDA tools\n",
    "import pickle\n",
    "import pandas as pd\n",
    "import numpy as np\n",
    "import seaborn as sns\n",
    "import matplotlib.pyplot as plt\n",
    "%matplotlib inline\n",
    "np.random.seed(10)\n",
    "import warnings\n",
    "warnings.filterwarnings(\"ignore\")\n",
    "\n",
    "#Single model classifiers\n",
    "from sklearn.linear_model import LogisticRegression\n",
    "from sklearn.tree import DecisionTreeClassifier\n",
    "\n",
    "#Ensemble classifications models\n",
    "from sklearn.ensemble import RandomForestClassifier, GradientBoostingClassifier\n",
    "\n",
    "#Model evaluation\n",
    "from sklearn.model_selection import train_test_split\n",
    "from sklearn.metrics import (accuracy_score,confusion_matrix, classification_report, roc_auc_score,\n",
    "f1_score, recall_score, precision_score, SCORERS)\n",
    "import time\n",
    "\n",
    "# Imbalance, Hyperparameter tunning and pipelines\n",
    "from imblearn.over_sampling import SMOTENC\n",
    "from sklearn.preprocessing import StandardScaler\n",
    "from sklearn.decomposition import PCA\n",
    "from sklearn.model_selection import GridSearchCV\n",
    "from sklearn.pipeline import Pipeline\n",
    "from collections import Counter\n",
    "from imblearn.over_sampling import SMOTEN"
   ]
  },
  {
   "cell_type": "markdown",
   "metadata": {},
   "source": [
    "# Function"
   ]
  },
  {
   "cell_type": "code",
   "execution_count": 44,
   "metadata": {},
   "outputs": [],
   "source": [
    "def distbox_plot(data):\n",
    "    '''Function to plot a seaborn distribution plot \n",
    "        with a box plot on top.\n",
    "        Reference: https://python-graph-gallery.com/24-histogram-with-a-boxplot-on-top-seaborn/'''\n",
    "    # Cut the window in 2 parts\n",
    "    f, (ax_box, ax_hist) = plt.subplots(2, sharex=True, figsize=(14,4),gridspec_kw={\"height_ratios\": (.15, .85)})\n",
    "    # Add a graph in each part\n",
    "    sns.boxplot(data, ax=ax_box)\n",
    "    sns.distplot(data, ax=ax_hist)\n",
    "    # Remove x axis name for the boxplot\n",
    "    ax_box.set(xlabel='')\n",
    "    #Print describtive statistics\n",
    "    print(data.describe())\n",
    "\n",
    "def preds(data=[]):\n",
    "    #Create training and testing data sets depending on wheather or not they have been generated previously.\n",
    "    if len(data)== 2:\n",
    "        X_train, X_test, y_train, y_test = train_test_split(data[0],data[1],random_state=123)\n",
    "    else:\n",
    "        X_train, X_test, y_train, y_test = data[0],data[1],data[2],data[3]\n",
    "\n",
    "    clf = DecisionTreeClassifier()\n",
    "    clf.fit(X_train, y_train)\n",
    "    test_preds = clf.predict_proba(X_test)\n",
    "    return test_preds\n",
    "\n",
    "def baseline_models(data=[], verbose=False):\n",
    "    #List of models to be used\n",
    "    models=[DecisionTreeClassifier(),LogisticRegression(),\n",
    "            RandomForestClassifier(),GradientBoostingClassifier()]\n",
    "    #Create training and testing data sets depending on wheather or not they have been generated previously.\n",
    "    if len(data)== 2:\n",
    "        X_train, X_test, y_train, y_test = train_test_split(data[0],data[1],random_state=123)\n",
    "    else:\n",
    "        X_train, X_test, y_train, y_test = data[0],data[1],data[2],data[3]\n",
    "    #Instantiate lists to store each of the models results\n",
    "    accuracy = []\n",
    "    f1 = []\n",
    "    auc = []\n",
    "    recall = []\n",
    "    precision = []\n",
    "    #Run thorugh each of the models to get their performance metrics\n",
    "    for model in models:\n",
    "        clf = model\n",
    "        clf.fit(X_train, y_train)\n",
    "        test_preds = clf.predict(X_test)\n",
    "        f1.append(f1_score(y_test, test_preds))\n",
    "        accuracy.append(accuracy_score(y_test, test_preds))\n",
    "        auc.append(roc_auc_score(y_test, test_preds))\n",
    "        recall.append(recall_score(y_test, test_preds))\n",
    "        precision.append(precision_score(y_test, test_preds))\n",
    "        #Print the model and its report\n",
    "        if verbose:\n",
    "            print('Classification Model: ',model,'\\n')\n",
    "            print(classification_report(y_test, test_preds),'\\n')\n",
    "    #store results in dataframe\n",
    "    results = pd.DataFrame([f1,auc, accuracy, precision,recall],\n",
    "                      index= ['f1','roc_auc','accuracy','precision','recall',],\n",
    "                           columns=['DecisionTree','LogisticRegression','RandomForest','Gradient Boosting'])\n",
    "    #Change orientation of the dataframe\n",
    "    return results.transpose()\n",
    "\n",
    "def plot_feat_importance(clf,index):\n",
    "    '''Plot the 0 most important features for a classifier model in a bar chart\n",
    "    according to importance'''\n",
    "    feat_importances = pd.DataFrame(clf.feature_importances_, index=index, columns=['Score'])\n",
    "    feat_importances = feat_importances.sort_values(by='Score',ascending=True).tail(10)\n",
    "    feat_importances.plot(kind='barh', title='Top 10 Important Features',legend=False)\n",
    "    plt.xlabel('Importance Score')\n",
    "    plt.ylabel('Feature')\n",
    "    plt.show();\n",
    "    \n",
    "def heatmap(data,figsize=(8,8), annot=False):\n",
    "    #plot heatmap to find multicollinearity\n",
    "    plt.figure(figsize=figsize)\n",
    "    cmap = sns.diverging_palette(220, 20, sep=20, as_cmap=True)\n",
    "    sns.heatmap(data.corr(),vmin=-0.75,vmax=0.75,center=0, cmap=cmap,annot=annot);\n",
    "\n",
    "def grid_pipe(pipedict, hyperdict, scoring='accuracy', display=True):\n",
    "    model_scores=[]\n",
    "    fitted_models={}\n",
    "    for name, pipeline in pipedict.items():\n",
    "    # Construct grid search\n",
    "        model = GridSearchCV(estimator=pipeline,\n",
    "                             param_grid=hyperdict[name],\n",
    "                             scoring=scoring,\n",
    "                             cv=5, verbose=2, n_jobs=-1, return_train_score = True)\n",
    "\n",
    "        # Fit using grid search\n",
    "        start = time.time()\n",
    "        model.fit(X_trainres, y_trainres)\n",
    "        end = time.time()\n",
    "        #Append socres and time\n",
    "        model_scores.append((name,model.best_score_,end-start))\n",
    "        #Append model\n",
    "        fitted_models[name]=model\n",
    "        if display:\n",
    "            #Print when the model has been fitted\n",
    "            print(f'The {name} model has been fitted.')\n",
    "            # Best accuracy\n",
    "            print('Best accuracy: %.3f' % model.best_score_)\n",
    "            # Best params\n",
    "            print('Best params:\\n', model.best_params_,'\\n')\n",
    "    \n",
    "    return model_scores, fitted_models"
   ]
  },
  {
   "cell_type": "markdown",
   "metadata": {},
   "source": [
    "# Process"
   ]
  },
  {
   "cell_type": "code",
   "execution_count": 45,
   "metadata": {},
   "outputs": [],
   "source": [
    "path='/home/o/oananbeh/notebook/Experment2/src/TabTransformer-multiclass_discharge/'"
   ]
  },
  {
   "cell_type": "code",
   "execution_count": 46,
   "metadata": {},
   "outputs": [],
   "source": [
    "data=pd.read_csv(path+'discharge_final_ML.csv')#,usecols = ['G.Patient','G.Gender','PO.OUTCOME']\n"
   ]
  },
  {
   "cell_type": "code",
   "execution_count": 47,
   "metadata": {},
   "outputs": [],
   "source": [
    "# #Create list with categorical features' names.\n",
    "# nonNumericalFeatures=['C_Diabetes', 'C_HTN', 'C.Heart ischemic', 'C.Heart failure', 'C.Cardiomyopathies', 'C.End stage renal', 'C.Hemodialysis', 'C.COPD',\n",
    "#    'C.Lung Interstitial Disease ', 'C.Bronchial Asthma', 'C.Cerebrovascular', 'C.Neurologic (dementia)', 'C.History of psychiatric', 'C.Cirrhosis', 'C.liver disease', 'C.Obesity',\n",
    "#    'C.Sick cell', 'C.Cancer','C.Solid organ transplant', 'IS.Hematopoietic cell transplant', 'IS.HIV', 'IS.corticosteroids',\n",
    "#    'IS.Other immunosuppressing agents', 'IS.Other immunodeficiencies', 'IS.Pregnancy','IS.Smoker', \n",
    "#     'CSA_Fever', 'CSA_SOB', 'CSA.Chest pain', 'CSA.Confusion', 'CSA.Hemoptysis', 'CSA.Diarrhea', 'CSA_Cough', 'CSA.Myalgia', 'CSA.Headache',\n",
    "#    'PEFF.Nasal Cannula', 'PEFF.Mask', 'PEFF.HFNC',\n",
    "#    'PEFF.If patient need prone position', 'PEFF.If patient intubated', 'PEFF.If Patient required Psychiatric Consultation', 'PEFF.Presence of thrombo-embolic', 'PEFF.Confirmed DVT',\n",
    "#    'PEFF.Confirmed Pulmonary embolism', 'PEFF.Confirmed Myocardial infarction', 'PEFF.Confirmed CVA/TIA','MPA_Antibiotics','MPA_Favipiravir',\n",
    "#    'MPA.Kaletra +Ribavirin +Interferon','MPA.Hydroxychloroquine', 'MPA_Dexamethasone',\n",
    "#    'MPA_Convalescent_plasma_transfusion','MPA_Clexan_or_Heparine',\n",
    "#    'MPA_Tocilizumab',  'Presence of consolidation', 'Presence of ground glass opacities','OUTCOME'] "
   ]
  },
  {
   "cell_type": "code",
   "execution_count": 48,
   "metadata": {},
   "outputs": [],
   "source": [
    "#Create list with categorical features' names.\n",
    "nonNumericalFeatures=['C_Diabetes', 'C_HTN', 'C.Heart ischemic', 'C.Heart failure', 'C.Cardiomyopathies', 'C.End stage renal', 'C.Hemodialysis', 'C.COPD',\n",
    "   'C.Lung Interstitial Disease ', 'C.Bronchial Asthma', 'C.Cerebrovascular', 'C.Neurologic (dementia)', 'C.History of psychiatric', 'C.Cirrhosis', 'C.liver disease', 'C.Obesity',\n",
    "   'C.Sick cell', 'C.Cancer','C.Solid organ transplant', 'IS.Hematopoietic cell transplant', 'IS.HIV', 'IS.corticosteroids',\n",
    "   'IS.Other immunosuppressing agents', 'IS.Other immunodeficiencies', 'IS.Pregnancy','IS.Smoker', \n",
    "    'CSA_Fever', 'CSA_SOB', 'CSA.Chest pain', 'CSA.Confusion', 'CSA.Hemoptysis', 'CSA.Diarrhea', 'CSA_Cough', 'CSA.Myalgia', 'CSA.Headache',\n",
    "   'PEFF.Nasal Cannula', 'PEFF.Mask', 'PEFF.HFNC',\n",
    "   'PEFF.If patient need prone position', 'PEFF.If patient intubated', 'PEFF.If Patient required Psychiatric Consultation', 'PEFF.Presence of thrombo-embolic', 'PEFF.Confirmed DVT',\n",
    "   'PEFF.Confirmed Pulmonary embolism', 'PEFF.Confirmed Myocardial infarction', 'PEFF.Confirmed CVA/TIA',\n",
    "   'MPA_Antibiotics','Anticoagulant','Immunomodulators','antiviral',\n",
    "   'XrayResult'\n",
    "   ] "
   ]
  },
  {
   "cell_type": "code",
   "execution_count": 49,
   "metadata": {},
   "outputs": [],
   "source": [
    "other=['PatientId','G.Nationality','OUTCOME','Gender'] "
   ]
  },
  {
   "cell_type": "code",
   "execution_count": 50,
   "metadata": {},
   "outputs": [],
   "source": [
    "#Create list with numerical features' names.\n",
    "numericalFeatures=['AGE','ABGF_Ph','ABGF_Pa_O2', 'ABGF_Pa_CO2', 'ABGF_HCO3','PEFF_Temperature', 'PEFF_Respiratory_Rate','PEFF_Pulse', 'PEFF_BP_Systolic', 'PEFF_BP_Diastolic', 'PEFF_Glasgow',\n",
    " 'WBC', 'PNN', 'Lymphocytes', 'Hemoglobin', 'Platelets', 'Creatinine', 'ALT', 'LDH', 'FERRITIN', 'D_DIMER', 'CRP', 'PROCALCITONI', 'TROPONIN', 'Pro_BNP', 'PTT', 'Vitamin_D', 'IL6']"
   ]
  },
  {
   "cell_type": "code",
   "execution_count": 51,
   "metadata": {},
   "outputs": [],
   "source": [
    "data.drop(['Blood Group'], axis=1,inplace=True) "
   ]
  },
  {
   "cell_type": "code",
   "execution_count": 52,
   "metadata": {},
   "outputs": [],
   "source": [
    "data.rename(columns={'PO.OUTCOME':'OUTCOME'},inplace=True)"
   ]
  },
  {
   "cell_type": "code",
   "execution_count": 53,
   "metadata": {},
   "outputs": [],
   "source": [
    "#Convert OUTCOME to 0 and 1\n",
    "data['OUTCOME']=data['OUTCOME'].replace('discharge','1')\n",
    "data['OUTCOME']=data['OUTCOME'].replace('died','0')"
   ]
  },
  {
   "cell_type": "code",
   "execution_count": 54,
   "metadata": {},
   "outputs": [],
   "source": [
    "#Replace False values with null \n",
    "data.replace('FALSE', None,inplace=True)\n",
    "# data.dropna(inplace=True)"
   ]
  },
  {
   "cell_type": "code",
   "execution_count": 55,
   "metadata": {},
   "outputs": [],
   "source": [
    "for feature in ['Gender']:\n",
    "    data[feature] = data[feature].map({'male':1,'female':0})"
   ]
  },
  {
   "cell_type": "markdown",
   "metadata": {},
   "source": [
    "# Main"
   ]
  },
  {
   "cell_type": "code",
   "execution_count": 56,
   "metadata": {},
   "outputs": [],
   "source": [
    "#Conver Numerical Features columns to float\n",
    "data[numericalFeatures] = data[numericalFeatures].astype('float')"
   ]
  },
  {
   "cell_type": "code",
   "execution_count": 57,
   "metadata": {},
   "outputs": [],
   "source": [
    "#Replace null values with Mean for each feature in nonNumerical Features\n",
    "for featureName in nonNumericalFeatures[1:]:\n",
    "    featureMode=int(data[featureName].mode())\n",
    "    data[[featureName]]=data[[featureName]].fillna(featureMode)"
   ]
  },
  {
   "cell_type": "code",
   "execution_count": 58,
   "metadata": {},
   "outputs": [],
   "source": [
    "#Replace null values with Mean for each feature in Numerical Features\n",
    "for featureName in numericalFeatures:\n",
    "    data[[featureName]]=data[[featureName]].fillna(data[featureName].mean())\n"
   ]
  },
  {
   "cell_type": "code",
   "execution_count": 59,
   "metadata": {},
   "outputs": [],
   "source": [
    "data[['OUTCOME']]=data[['OUTCOME']].fillna(data['OUTCOME'].mode())"
   ]
  },
  {
   "cell_type": "code",
   "execution_count": 60,
   "metadata": {},
   "outputs": [],
   "source": [
    "data[nonNumericalFeatures] = data[nonNumericalFeatures].astype('int64')\n",
    "data[nonNumericalFeatures] = data[nonNumericalFeatures].astype('category')"
   ]
  },
  {
   "cell_type": "code",
   "execution_count": 61,
   "metadata": {},
   "outputs": [
    {
     "data": {
      "text/plain": [
       "(248, 92)"
      ]
     },
     "execution_count": 61,
     "metadata": {},
     "output_type": "execute_result"
    }
   ],
   "source": [
    "data.shape"
   ]
  },
  {
   "cell_type": "code",
   "execution_count": 62,
   "metadata": {},
   "outputs": [
    {
     "name": "stdout",
     "output_type": "stream",
     "text": [
      "Original class counts: Counter({'discharge=<1': 85, 'discharge=<2': 80, 'discharge=<3': 37, 'discharge>4': 34, 'discharge=<4': 12})\n"
     ]
    }
   ],
   "source": [
    "#Create a final dataframe with all numerical variables in the first columns.\n",
    "final_df = data.drop('OUTCOME', axis=1)\n",
    "target = data.OUTCOME\n",
    "print(f\"Original class counts: {Counter(target)}\")"
   ]
  },
  {
   "cell_type": "code",
   "execution_count": 63,
   "metadata": {},
   "outputs": [
    {
     "name": "stdout",
     "output_type": "stream",
     "text": [
      "Class counts after resampling Counter({'discharge=<1': 85, 'discharge=<2': 85, 'discharge=<3': 85, 'discharge=<4': 85, 'discharge>4': 85})\n"
     ]
    }
   ],
   "source": [
    "sampler = SMOTEN(random_state=0)\n",
    "X_trainres, y_trainres = sampler.fit_resample(final_df, target)\n",
    "print(f\"Class counts after resampling {Counter(y_trainres)}\")"
   ]
  },
  {
   "cell_type": "code",
   "execution_count": 64,
   "metadata": {},
   "outputs": [],
   "source": [
    "#Connect final with target\n",
    "SMOTE_dataSet = pd.concat([X_trainres, y_trainres],axis=1)"
   ]
  },
  {
   "cell_type": "code",
   "execution_count": 65,
   "metadata": {},
   "outputs": [],
   "source": [
    "# SMOTE_dataSet.to_csv(path+(\"test.csv\"))"
   ]
  },
  {
   "cell_type": "code",
   "execution_count": 66,
   "metadata": {},
   "outputs": [],
   "source": [
    "# c=SMOTE_dataSet.isnull ().sum ()\n",
    "# c.to_csv(path+'final_df2nullValues.csv')"
   ]
  },
  {
   "cell_type": "code",
   "execution_count": 67,
   "metadata": {},
   "outputs": [],
   "source": [
    "SMOTE_dataSet.rename(columns={'G.AGE': 'AGE','ABGF.Ph':'ABGF_Ph',\n",
    "'ABGF.Pa O2':'ABGF_Pa_O2','ABGF.Pa CO2':'ABGF_Pa_CO2','ABGF.HCO3-':'ABGF_HCO3',\n",
    "'PEFF.Temperature':'PEFF_Temperature','PEFF.Respiratory Rate':'PEFF_Respiratory_Rate',\n",
    "'PEFF.Pulse':'PEFF_Pulse','PEFF.BP_Systolic':'PEFF_BP_Systolic','PEFF.BP_Diastolic':'PEFF_BP_Diastolic',\n",
    "'PEFF_Glasgow Score':'PEFF_Glasgow','D-DIMER':'D_DIMER','Pro-BNP':'Pro_BNP','Vitamin D':'Vitamin_D',\n",
    "'C.Diabetes':'C_Diabetes','C.HTN':'C_HTN','CSA.Fever':'CSA_Fever','CSA.SOB':'CSA_SOB',\n",
    "'CSA.Cough':'CSA_Cough','MPA.Antibiotics':'MPA_Antibiotics','MPA.Favipiravir':'MPA_Favipiravir',\n",
    "'MPA.Dexamethasone':'MPA_Dexamethasone','MPA.Convalescent plasma transfusion':'MPA_Convalescent_plasma_transfusion',\n",
    "'MPA.Clexan or Heparine':'MPA_Clexan_or_Heparine','MPA.Tocilizumab':'MPA_Tocilizumab'}, inplace=True)"
   ]
  },
  {
   "cell_type": "code",
   "execution_count": 68,
   "metadata": {},
   "outputs": [],
   "source": [
    "SMOTE_dataSet.to_csv(path+'SMOT_discharge_DataSet.csv',index=False) "
   ]
  },
  {
   "cell_type": "code",
   "execution_count": 69,
   "metadata": {},
   "outputs": [],
   "source": [
    "SMOTE_dataSet.to_csv(path+'SMOT_discharge_DataSet2.csv',index=False,header=False) "
   ]
  }
 ],
 "metadata": {
  "kernelspec": {
   "display_name": "Python 3 (ipykernel)",
   "language": "python",
   "name": "python3"
  },
  "language_info": {
   "codemirror_mode": {
    "name": "ipython",
    "version": 3
   },
   "file_extension": ".py",
   "mimetype": "text/x-python",
   "name": "python",
   "nbconvert_exporter": "python",
   "pygments_lexer": "ipython3",
   "version": "3.9.12"
  },
  "vscode": {
   "interpreter": {
    "hash": "b0ec3465f5306ad2571dd352c55f43c441d7efdf3cf80b3e3c9f62414cf668dd"
   }
  }
 },
 "nbformat": 4,
 "nbformat_minor": 2
}
