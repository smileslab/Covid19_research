{
 "cells": [
  {
   "cell_type": "markdown",
   "metadata": {},
   "source": [
    "# Import"
   ]
  },
  {
   "cell_type": "code",
   "execution_count": null,
   "metadata": {},
   "outputs": [],
   "source": [
    "import pandas as pd\n",
    "# from fugue_sql import fsql\n",
    "#Single model classifiers\n",
    "from sklearn.linear_model import LogisticRegression\n",
    "from sklearn.tree import DecisionTreeClassifier\n",
    "#Ensemble classifications models\n",
    "from sklearn.ensemble import RandomForestClassifier, GradientBoostingClassifier\n",
    "#Model evaluation\n",
    "from sklearn.model_selection import train_test_split\n",
    "from sklearn.metrics import (accuracy_score,confusion_matrix, classification_report, roc_auc_score,\n",
    "f1_score, recall_score, precision_score, SCORERS)\n",
    "import pickle\n",
    "from sklearn.preprocessing import OneHotEncoder\n",
    "from sklearn import preprocessing\n",
    "from sklearn.preprocessing import LabelEncoder\n",
    "import numpy as np\n",
    "import csv"
   ]
  },
  {
   "cell_type": "code",
   "execution_count": null,
   "metadata": {},
   "outputs": [],
   "source": [
    "path='/home/o/oananbeh/notebook/src/TabTransformer-multiclass_discharge/'\n",
    "Modelname = path+'RandomForestClassifier_model.sav'\n"
   ]
  },
  {
   "cell_type": "markdown",
   "metadata": {},
   "source": [
    "# Functions"
   ]
  },
  {
   "cell_type": "code",
   "execution_count": null,
   "metadata": {},
   "outputs": [],
   "source": [
    "def get_prob(test_features,classType):\n",
    "    # load the model from disk\n",
    "    model = pickle.load(open(Modelname, 'rb'))\n",
    "    y_proba = model.predict_proba(test_features)\n",
    "   \n",
    "    second_proba = y_proba[:, classType]\n",
    "    c=(np.mean(second_proba))\n",
    "    return c"
   ]
  },
  {
   "cell_type": "code",
   "execution_count": null,
   "metadata": {},
   "outputs": [],
   "source": [
    "def create_dict_rules1(list_rules):\n",
    "    list_keys=[k.split(':')[0] for k in list_rules]\n",
    "    list_values=[k.split(':')[-2]+':'+k.split(':')[-1] if ('>' in k or '<' in k) else k.split(':')[-1] for k in list_rules ]\n",
    "    rule_dict = {list_keys[i]: list_values[i] for i in range(len(list_keys))}\n",
    "    return rule_dict"
   ]
  },
  {
   "cell_type": "code",
   "execution_count": null,
   "metadata": {},
   "outputs": [],
   "source": [
    "#Platelets:< 50000"
   ]
  },
  {
   "cell_type": "code",
   "execution_count": null,
   "metadata": {},
   "outputs": [],
   "source": [
    "c=['ABGF_Pa_O2:0_80', 'CSA_Cough:1', 'Platelets:< :50000']\n",
    "result=create_dict_rules1(c)\n",
    "result"
   ]
  },
  {
   "cell_type": "code",
   "execution_count": null,
   "metadata": {},
   "outputs": [],
   "source": [
    "def create_dict_rules(list_rules):\n",
    "    list_keys=[k.split(':')[0] for k in list_rules]\n",
    "    list_values=[k.split(':')[-2]+k.split(':')[-1] if ('>' in k or '<' in k) else k.split(':')[-1] for k in list_rules ]\n",
    "    rule_dict = {list_keys[i]: list_values[i] for i in range(len(list_keys))}\n",
    "    return rule_dict"
   ]
  },
  {
   "cell_type": "code",
   "execution_count": null,
   "metadata": {},
   "outputs": [],
   "source": [
    "def NormalizeData(data):\n",
    "    return (data - np.min(data)) / (np.max(data) - np.min(data))*10\n"
   ]
  },
  {
   "cell_type": "markdown",
   "metadata": {},
   "source": [
    "# ML"
   ]
  },
  {
   "cell_type": "code",
   "execution_count": null,
   "metadata": {},
   "outputs": [],
   "source": [
    "Load_DF=pd.read_csv(path+'discharge_final_ML.csv')\n",
    "Load_DF = Load_DF.astype('category')\n",
    " "
   ]
  },
  {
   "cell_type": "code",
   "execution_count": null,
   "metadata": {},
   "outputs": [],
   "source": [
    "Load_DF.shape"
   ]
  },
  {
   "cell_type": "markdown",
   "metadata": {},
   "source": [
    "# RandomForestClassifier"
   ]
  },
  {
   "cell_type": "code",
   "execution_count": null,
   "metadata": {},
   "outputs": [],
   "source": [
    "df_train = Load_DF.drop('OUTCOME', axis=1)\n",
    "train_labels = Load_DF['OUTCOME']"
   ]
  },
  {
   "cell_type": "code",
   "execution_count": null,
   "metadata": {},
   "outputs": [],
   "source": [
    "df_train.shape[1]"
   ]
  },
  {
   "cell_type": "code",
   "execution_count": null,
   "metadata": {},
   "outputs": [],
   "source": [
    "encoders = []\n",
    "features = []\n",
    "for i in range(89):\n",
    "    encoder_i = OneHotEncoder(handle_unknown='ignore')\n",
    "    i_column = df_train.columns[i]\n",
    "    encoder_i.fit(df_train[i_column].values.reshape(-1, 1))\n",
    "    encoded_feature = encoder_i.transform(df_train[i_column].values.reshape(-1, 1))\n",
    "    encoded_feature = encoded_feature.toarray()\n",
    "    features.append(encoded_feature)\n",
    "    encoders.append(encoder_i)\n",
    "\n",
    "def get_oh(df):\n",
    "    features_test = []\n",
    "    for i in range(89):\n",
    "        encoder_i = encoders[i]\n",
    "        i_column = Load_DF.columns[i]\n",
    "        encoded_test = encoder_i.transform(df[i_column].values.reshape(-1, 1))\n",
    "        encoded_test = encoded_test.toarray()\n",
    "        features_test.append(encoded_test)\n",
    "    return  np.concatenate(features_test, axis=1)\n",
    "\n",
    "train_features = np.concatenate(features, axis=1)\n"
   ]
  },
  {
   "cell_type": "code",
   "execution_count": null,
   "metadata": {},
   "outputs": [],
   "source": [
    "train_features.shape, train_labels.values.shape"
   ]
  },
  {
   "cell_type": "markdown",
   "metadata": {},
   "source": [
    "# prob"
   ]
  },
  {
   "cell_type": "code",
   "execution_count": null,
   "metadata": {},
   "outputs": [],
   "source": [
    "#Load the DataSet\n",
    "association_results=path+'CSV_Association_results_Lab_discharge=<1_0.2_0.5_visit1.csv'\n",
    "process_df=pd.read_csv(association_results)\n",
    "classType=0 # o or 1 which i need to get the prob for it  \n",
    "name='discharge=<1' # died or discharge or AllData"
   ]
  },
  {
   "cell_type": "code",
   "execution_count": null,
   "metadata": {},
   "outputs": [],
   "source": [
    "#get all the rule with 0.7 Support\n",
    "# process_df=process_df[(process_df['Support']>=0.5)]"
   ]
  },
  {
   "cell_type": "code",
   "execution_count": null,
   "metadata": {},
   "outputs": [],
   "source": [
    "process_df"
   ]
  },
  {
   "cell_type": "code",
   "execution_count": null,
   "metadata": {},
   "outputs": [],
   "source": [
    "process_df['Support'].count()"
   ]
  },
  {
   "cell_type": "code",
   "execution_count": null,
   "metadata": {},
   "outputs": [],
   "source": [
    "# process_df.rename(columns={'G.AGE': 'AGE','ABGF.Ph':'ABGF_Ph',\n",
    "# 'ABGF.Pa O2':'ABGF_Pa_O2','ABGF.Pa CO2':'ABGF_Pa_CO2','ABGF.HCO3-':'ABGF_HCO3',\n",
    "# 'PEFF.Temperature':'PEFF_Temperature','PEFF.Respiratory Rate':'PEFF_Respiratory_Rate',\n",
    "# 'PEFF.Pulse':'PEFF_Pulse','PEFF.BP_Systolic':'PEFF_BP_Systolic','PEFF.BP_Diastolic':'PEFF_BP_Diastolic',\n",
    "# 'PEFF.Glasgow':'PEFF_Glasgow','D-DIMER':'D_DIMER','Pro-BNP':'Pro_BNP','Vitamin D':'Vitamin_D',\n",
    "# 'C.Diabetes':'C_Diabetes','C.HTN':'C_HTN','CSA.Fever':'CSA_Fever','CSA.SOB':'CSA_SOB',\n",
    "# 'CSA.Cough':'CSA_Cough','MPA.Antibiotics':'MPA_Antibiotics','MPA.Favipiravir':'MPA_Favipiravir',\n",
    "# 'MPA.Dexamethasone':'MPA_Dexamethasone','MPA.Convalescent plasma transfusion':'MPA_Convalescent_plasma_transfusion',\n",
    "# 'MPA.Clexan or Heparine':'MPA_Clexan_or_Heparine','MPA.Tocilizumab':'MPA_Tocilizumab'}, inplace=True)"
   ]
  },
  {
   "cell_type": "code",
   "execution_count": null,
   "metadata": {},
   "outputs": [],
   "source": [
    "process_df['Rule']=process_df['Rule'].astype('string')"
   ]
  },
  {
   "cell_type": "code",
   "execution_count": null,
   "metadata": {},
   "outputs": [],
   "source": [
    "process_df['Rule'] = process_df['Rule'].apply(eval)"
   ]
  },
  {
   "cell_type": "code",
   "execution_count": null,
   "metadata": {},
   "outputs": [],
   "source": [
    "df_orginal=pd.read_csv(path+'SMOT_discharge_DataSet.csv')\n",
    "# df_orginal=df_orginal.astype('object')"
   ]
  },
  {
   "cell_type": "code",
   "execution_count": null,
   "metadata": {},
   "outputs": [],
   "source": [
    "import csv\n",
    "with open(path+'prob_result_RandomForest_'+name+'.csv', 'w') as writeResult:\n",
    "    CSV_writer = csv.writer(writeResult, delimiter=',', quoting=csv.QUOTE_MINIMAL)\n",
    "    CSV_writer.writerow(['Rule','prob_died'])\n",
    "    for rule in process_df['Rule'] :\n",
    "        # print(rule)\n",
    "        rule_dict=create_dict_rules1(rule)\n",
    "        df_query=''\n",
    "        for k,v in rule_dict.items():  \n",
    "            if k != list(rule_dict)[-1]:\n",
    "                df_query=df_query+(k+\"=='\"+k+':'+str(v))+\"' & \" \n",
    "            else:\n",
    "                df_query=df_query+(k+\"=='\"+k+':'+str(v))+\"'\"\n",
    "       \n",
    "        new_df=Load_DF.query(df_query)\n",
    "        number_row=new_df.shape[0]\n",
    "        if number_row==0:\n",
    "             continue   \n",
    "        # print(words,new_df.shape)\n",
    "        # print(new_df)\n",
    "        #get the onehot \n",
    "        test_features =get_oh(new_df)\n",
    "        c=get_prob(test_features,classType)\n",
    "        CSV_writer.writerow([rule,c])"
   ]
  },
  {
   "cell_type": "code",
   "execution_count": null,
   "metadata": {},
   "outputs": [],
   "source": [
    "# import csv\n",
    "# with open(path+'prob_result_'+name+'.csv', 'w') as writeResult:\n",
    "#     CSV_writer = csv.writer(writeResult, delimiter=',', quoting=csv.QUOTE_MINIMAL)\n",
    "#     CSV_writer.writerow(['Rule','prob_died'])\n",
    "#     for rule in process_df['Rule'] :\n",
    "#         # print(rule)\n",
    "#         rule_dict=create_dict_rules(rule)\n",
    "#         df_query=''\n",
    "#         for k,v in rule_dict.items():   \n",
    "#             if k != list(rule_dict)[-1]:\n",
    "#                 df_query=df_query+(k+\"=='\"+k+':'+str(v))+\"' & \" \n",
    "#             else:\n",
    "#                 df_query=df_query+(k+\"=='\"+k+':'+str(v))+\"'\"\n",
    "       \n",
    "#         new_df=Load_DF.query(df_query)\n",
    "#         number_row=new_df.shape[0]\n",
    "#         print(df_query,number_row)\n",
    "#         if number_row==0:\n",
    "#              continue   \n",
    "#         # print(words,new_df.shape)\n",
    "#         #get the onehot \n",
    "#         test_features =get_oh(new_df)\n",
    "#         c=get_prob(test_features,classType)\n",
    "#         CSV_writer.writerow([rule,c])"
   ]
  },
  {
   "cell_type": "code",
   "execution_count": null,
   "metadata": {},
   "outputs": [],
   "source": [
    "df=pd.read_csv(path+'prob_result_RandomForest_'+name+'.csv')"
   ]
  },
  {
   "cell_type": "code",
   "execution_count": null,
   "metadata": {},
   "outputs": [],
   "source": [
    "df.shape"
   ]
  },
  {
   "cell_type": "code",
   "execution_count": null,
   "metadata": {},
   "outputs": [],
   "source": [
    "x=df['prob_died']\n"
   ]
  },
  {
   "cell_type": "code",
   "execution_count": null,
   "metadata": {},
   "outputs": [],
   "source": [
    "np.min(x) ,np.max(x)"
   ]
  },
  {
   "cell_type": "code",
   "execution_count": null,
   "metadata": {},
   "outputs": [],
   "source": [
    "#Normalize Data\n",
    "scaled_x = NormalizeData(x)\n",
    "df['scaled']=scaled_x\n"
   ]
  },
  {
   "cell_type": "code",
   "execution_count": null,
   "metadata": {},
   "outputs": [],
   "source": [
    "df.to_csv(path+'prob_result_RandomForest_'+name+'.csv',index=False)"
   ]
  },
  {
   "cell_type": "markdown",
   "metadata": {},
   "source": [
    "# Get the Orgenal Data /TabTransformer"
   ]
  },
  {
   "cell_type": "code",
   "execution_count": null,
   "metadata": {},
   "outputs": [],
   "source": [
    "# x=['ABGF_Pa_O2:0_80', 'CSA_SOB:1', 'LDH:> :225']\n",
    "# result=create_dict_rules(x)\n",
    "# result"
   ]
  },
  {
   "cell_type": "code",
   "execution_count": null,
   "metadata": {},
   "outputs": [],
   "source": [
    "from keras.models import load_model\n",
    "tabtransformer_model = load_model(path+'my_model.h5')"
   ]
  },
  {
   "cell_type": "code",
   "execution_count": null,
   "metadata": {},
   "outputs": [],
   "source": [
    "import math\n",
    "import numpy as np\n",
    "import pandas as pd\n",
    "import tensorflow as tf\n",
    "from tensorflow import keras\n",
    "from tensorflow.keras import layers\n",
    "import tensorflow_addons as tfa\n",
    "import matplotlib.pyplot as plt\n",
    "from sklearn.model_selection import train_test_split"
   ]
  },
  {
   "cell_type": "code",
   "execution_count": null,
   "metadata": {},
   "outputs": [],
   "source": [
    "path='/home/o/oananbeh/notebook/src/TabTransformer-multiclass_discharge/'\n",
    "dataSetPath=path+'SMOT_discharge_DataSet.csv'\n",
    "data=pd.read_csv(dataSetPath)\n",
    "CSV_HEADER=list(data.columns)"
   ]
  },
  {
   "cell_type": "code",
   "execution_count": null,
   "metadata": {},
   "outputs": [],
   "source": [
    "NUMERIC_FEATURE_NAMES=[ 'AGE','PEFF_Temperature', 'PEFF_Respiratory_Rate', 'PEFF_Pulse',\n",
    "       'PEFF_BP_Systolic', 'PEFF_BP_Diastolic', 'PEFF_Glasgow',\n",
    "       'ABGF_Ph', 'ABGF_Pa_O2', 'ABGF_Pa_CO2','ABGF_HCO3',\n",
    "       'WBC', 'PNN', 'Lymphocytes', 'Hemoglobin', 'Platelets',\n",
    "       'Creatinine', 'ALT', 'LDH', 'FERRITIN', 'D_DIMER', 'CRP',\n",
    "       'PROCALCITONI', 'TROPONIN', 'Pro_BNP', 'PTT', 'Vitamin_D', 'IL6',\n",
    "       ]"
   ]
  },
  {
   "cell_type": "code",
   "execution_count": null,
   "metadata": {},
   "outputs": [],
   "source": [
    "CATEGORICAL_FEATURES=['PatientId','G.Nationality','Gender','C_Diabetes', 'C_HTN',\n",
    "       'C.Heart ischemic', 'C.Heart failure', 'C.Cardiomyopathies',\n",
    "       'C.End stage renal', 'C.Hemodialysis', 'C.COPD',\n",
    "       'C.Lung Interstitial Disease ', 'C.Bronchial Asthma',\n",
    "       'C.Cerebrovascular', 'C.Neurologic (dementia)',\n",
    "       'C.History of psychiatric', 'C.Cirrhosis', 'C.liver disease',\n",
    "       'C.Obesity', 'C.Sick cell', 'C.Cancer', 'C.Solid organ transplant',\n",
    "       'IS.Hematopoietic cell transplant', 'IS.HIV', 'IS.corticosteroids',\n",
    "       'IS.Other immunosuppressing agents', 'IS.Other immunodeficiencies',\n",
    "       'IS.Pregnancy', 'IS.Smoker',  'CSA_Fever', 'CSA_SOB', 'CSA.Chest pain', 'CSA.Confusion',\n",
    "       'CSA.Hemoptysis', 'CSA.Diarrhea', 'CSA_Cough', 'CSA.Myalgia',\n",
    "       'CSA.Headache', 'CSA.Abdominal Pain', 'CSA.Nausea or Vomiting',\n",
    "       'CSA.Loss of Smell or Tast', 'PO.Condition', 'PO.Current Condition',\n",
    "       'PEFF.Nasal Cannula', 'PEFF.Mask', 'PEFF.HFNC',\n",
    "       'PEFF.If patient need prone position', 'PEFF.If patient intubated',\n",
    "       'PEFF.If Patient required Psychiatric Consultation',\n",
    "       'PEFF.Presence of thrombo-embolic', 'PEFF.Confirmed DVT',\n",
    "       'PEFF.Confirmed Pulmonary embolism',\n",
    "       'PEFF.Confirmed Myocardial infarction', 'PEFF.Confirmed CVA/TIA','Normal', 'Presence of consolidation',\n",
    "       'Presence of ground glass opacities', 'Bilateral or unilateral',\n",
    "       'Involve ≥ 50% the lung', 'Other']  "
   ]
  },
  {
   "cell_type": "code",
   "execution_count": null,
   "metadata": {},
   "outputs": [],
   "source": [
    "BATCH_SIZE = 8\n",
    "learning_rate = 0.001\n",
    "weight_decay = 0.0001\n",
    " "
   ]
  },
  {
   "cell_type": "code",
   "execution_count": null,
   "metadata": {},
   "outputs": [],
   "source": [
    "# # A list of column default values for each feature.\n",
    "COLUMN_DEFAULTS = [\n",
    "    [0.0] if feature_name in NUMERIC_FEATURE_NAMES  else [\"NA\"]\n",
    "    for feature_name in CSV_HEADER\n",
    "]\n",
    "# The name of the target feature.\n",
    "TARGET_FEATURE_NAME = 'OUTCOME'\n",
    "# A list of the labels of the target features.\n",
    "TARGET_LABELS = ['discharge=<1','discharge=<2','discharge=<3','discharge=<4','discharge>4']\n",
    "\n",
    " "
   ]
  },
  {
   "cell_type": "code",
   "execution_count": null,
   "metadata": {},
   "outputs": [],
   "source": [
    "\n",
    "target_label_lookup = layers.StringLookup(\n",
    "    vocabulary=TARGET_LABELS, mask_token=None, num_oov_indices=0\n",
    ")\n",
    "\n",
    "def prepare_example(features, target):\n",
    "    # print(target)\n",
    "    target_index = target_label_lookup(target)\n",
    "    # weights = features.pop(WEIGHT_COLUMN_NAME), weights\n",
    "    return features, target_index \n",
    "\n",
    "def get_dataset_from_csv(csv_file_path, batch_size=128, shuffle=False):\n",
    "    dataset = tf.data.experimental.make_csv_dataset(\n",
    "        csv_file_path,\n",
    "        batch_size=batch_size,\n",
    "        column_names=CSV_HEADER,\n",
    "        column_defaults=COLUMN_DEFAULTS,\n",
    "        label_name=TARGET_FEATURE_NAME,\n",
    "        num_epochs=1,\n",
    "        header=False,\n",
    "        na_value=\"?\",\n",
    "        shuffle=shuffle,\n",
    "    ).map(prepare_example, num_parallel_calls=tf.data.AUTOTUNE, deterministic=False) \n",
    "    return dataset.cache()"
   ]
  },
  {
   "cell_type": "code",
   "execution_count": null,
   "metadata": {},
   "outputs": [],
   "source": [
    "filename=path+'prob_result_TabTransformer'+name+'.csv'\n",
    "\n",
    "with open(filename, 'a') as writeResult:\n",
    "    CSV_writer = csv.writer(writeResult, delimiter=',', quoting=csv.QUOTE_MINIMAL)\n",
    "    CSV_writer.writerow(['discharge=<1','discharge=<2','discharge=<3','discharge=<4','discharge>4','Rule','Support','Confidence'])"
   ]
  },
  {
   "cell_type": "code",
   "execution_count": null,
   "metadata": {},
   "outputs": [],
   "source": [
    "# import numpy\n",
    "\n",
    "# def run_experiment1(\n",
    "#     model,\n",
    "#     test_data_file,\n",
    "#     batch_size,\n",
    "#     rule,\n",
    "# ):\n",
    "\n",
    "#     validation_dataset = get_dataset_from_csv(test_data_file, batch_size)\n",
    "#     y_proba = model.predict(validation_dataset)  \n",
    "#     df_prob=pd.DataFrame(columns=['discharge=<2','discharge=<4','died=<3','discharge>4','died=>3','discharge=<1',' discharge=<3'],data= y_proba)\n",
    "\n",
    "#     print(df_prob)\n",
    "#     result_argmax=(np.argmax(y_proba))\n",
    "#     c=(np.mean(result_argmax))\n",
    "#     with open(filename, 'a') as writeResult:\n",
    "#         CSV_writer = csv.writer(writeResult, delimiter=',', quoting=csv.QUOTE_MINIMAL)\n",
    "#         CSV_writer.writerow([rule,c])"
   ]
  },
  {
   "cell_type": "code",
   "execution_count": null,
   "metadata": {},
   "outputs": [],
   "source": [
    "import numpy\n",
    "def run_experiment1(\n",
    "    model,\n",
    "    test_data_file,\n",
    "    batch_size,\n",
    "    rule,\n",
    "    Support,\n",
    "    Confidence,\n",
    "):\n",
    "\n",
    "    validation_dataset = get_dataset_from_csv(test_data_file, batch_size)\n",
    "    y_proba = model.predict(validation_dataset)  \n",
    "    df_prob=pd.DataFrame(columns=['discharge=<1','discharge=<2','discharge=<3','discharge=<4','discharge>4'],data= y_proba)\n",
    "    f=df_prob.mean()\n",
    "    y=f.to_dict()\n",
    "    y[\"rule\"] = rule\n",
    "    y['Support']=Support\n",
    "    y['Confidence']=Confidence\n",
    "    result_argmax=(np.argmax(y_proba))\n",
    "    c=(np.mean(result_argmax))\n",
    "    with open(filename, 'a') as writeResult:\n",
    "        CSV_writer = csv.writer(writeResult, delimiter=',', quoting=csv.QUOTE_MINIMAL)\n",
    "        CSV_writer.writerow(y.values())"
   ]
  },
  {
   "cell_type": "code",
   "execution_count": null,
   "metadata": {},
   "outputs": [],
   "source": [
    "#get the Orginal Data\n",
    "allDataFrame=[]\n",
    "count=1\n",
    "for row in process_df.itertuples():\n",
    "    rule=row.Rule   \n",
    "    result=create_dict_rules(rule)\n",
    "    df_query=''\n",
    "    newQuery=''\n",
    "    query=[]\n",
    "    for k,v in result.items():    \n",
    "        value=v.split(\"_\")\n",
    "        if (len(value)>1):\n",
    "            f=value[0]\n",
    "            s=value[1]\n",
    "            query.append(f+'<='+k + '<='+s)\n",
    "        else:\n",
    "            if ('>' in v or '<' in v):\n",
    "                query.append(k+v[0]+v[1:])\n",
    "            else:\n",
    "                query.append(k+\"==\"+v)\n",
    "    for q in query:\n",
    "        if q != query[-1]:\n",
    "         newQuery=newQuery+''.join(q) +\" & \"\n",
    "        else:\n",
    "            newQuery=newQuery+''.join(q)\n",
    "    rule_df=df_orginal.query(newQuery)\n",
    "    number_row=rule_df.shape[0]\n",
    "    if number_row==0:continue\n",
    "    for feature in CATEGORICAL_FEATURES[2:]:\n",
    "        rule_df[feature] = data[feature].map({1:'yes', 0:'no'})\n",
    "    # rule_df[CATEGORICAL_FEATURES]=rule_df[CATEGORICAL_FEATURES].astype('object')\n",
    "    #Split thr Data into training and testing\n",
    "    rule_df.to_csv(path+'rule_output/'+str(count)+'.csv', index=False, header=False)\n",
    "    testingDdataSet=path+'rule_output/'+str(count)+'.csv'\n",
    "    history = run_experiment1(\n",
    "    model=tabtransformer_model,\n",
    "    test_data_file=testingDdataSet,\n",
    "    batch_size=BATCH_SIZE,\n",
    "    rule=rule,\n",
    "    Support= row.Support  ,\n",
    "    Confidence=row.Confidence,)\n",
    "    count+=1"
   ]
  },
  {
   "cell_type": "code",
   "execution_count": null,
   "metadata": {},
   "outputs": [],
   "source": [
    "df=pd.read_csv(path+'prob_result_TabTransformer'+name+'.csv')"
   ]
  },
  {
   "cell_type": "code",
   "execution_count": null,
   "metadata": {},
   "outputs": [],
   "source": [
    "x=df['prob_died'].astype('float')"
   ]
  },
  {
   "cell_type": "code",
   "execution_count": null,
   "metadata": {},
   "outputs": [],
   "source": [
    "x"
   ]
  },
  {
   "cell_type": "code",
   "execution_count": null,
   "metadata": {},
   "outputs": [],
   "source": [
    "#Normalize Data\n",
    "scaled_x = NormalizeData(x)\n",
    "df['scaled']=scaled_x"
   ]
  },
  {
   "cell_type": "code",
   "execution_count": null,
   "metadata": {},
   "outputs": [],
   "source": [
    "scaled_x"
   ]
  },
  {
   "cell_type": "code",
   "execution_count": null,
   "metadata": {},
   "outputs": [],
   "source": [
    "df.to_csv(path+'prob_result_TabTransformer'+name+'.csv',index=False)"
   ]
  }
 ],
 "metadata": {
  "kernelspec": {
   "display_name": "Python 3 (ipykernel)",
   "language": "python",
   "name": "python3"
  },
  "language_info": {
   "codemirror_mode": {
    "name": "ipython",
    "version": 3
   },
   "file_extension": ".py",
   "mimetype": "text/x-python",
   "name": "python",
   "nbconvert_exporter": "python",
   "pygments_lexer": "ipython3",
   "version": "3.9.12 (main, Jun  1 2022, 11:38:51) \n[GCC 7.5.0]"
  },
  "vscode": {
   "interpreter": {
    "hash": "b0ec3465f5306ad2571dd352c55f43c441d7efdf3cf80b3e3c9f62414cf668dd"
   }
  }
 },
 "nbformat": 4,
 "nbformat_minor": 2
}
