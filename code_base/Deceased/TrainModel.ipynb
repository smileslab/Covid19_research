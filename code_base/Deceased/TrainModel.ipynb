{
 "cells": [
  {
   "cell_type": "markdown",
   "metadata": {},
   "source": [
    "# Import"
   ]
  },
  {
   "cell_type": "code",
   "execution_count": 39,
   "metadata": {},
   "outputs": [],
   "source": [
    "import pandas as pd\n",
    "# from fugue_sql import fsql\n",
    "#Single model classifiers\n",
    "from sklearn.linear_model import LogisticRegression\n",
    "from sklearn.tree import DecisionTreeClassifier\n",
    "#Ensemble classifications models\n",
    "from sklearn.ensemble import RandomForestClassifier, GradientBoostingClassifier\n",
    "#Model evaluation\n",
    "from sklearn.model_selection import train_test_split\n",
    "from sklearn.metrics import (accuracy_score,confusion_matrix, classification_report, roc_auc_score,\n",
    "f1_score, recall_score, precision_score, SCORERS)\n",
    "import pickle\n",
    "from sklearn.preprocessing import OneHotEncoder\n",
    "from sklearn import preprocessing\n",
    "from sklearn.preprocessing import LabelEncoder\n",
    "import numpy as np\n",
    "from collections import Counter\n",
    "from sklearn.ensemble import AdaBoostClassifier\n",
    "import matplotlib.pyplot as plt"
   ]
  },
  {
   "cell_type": "code",
   "execution_count": 40,
   "metadata": {},
   "outputs": [],
   "source": [
    "Modelname = 'RandomForestClassifier_model.sav'\n"
   ]
  },
  {
   "cell_type": "markdown",
   "metadata": {},
   "source": [
    "# Functions"
   ]
  },
  {
   "cell_type": "code",
   "execution_count": 41,
   "metadata": {},
   "outputs": [],
   "source": [
    "def baseline_models(data=[], verbose=False):\n",
    "    #List of models to be used\n",
    "    models=[DecisionTreeClassifier(),LogisticRegression(),\n",
    "            RandomForestClassifier(n_estimators=100,criterion='entropy',random_state=101),\n",
    "            GradientBoostingClassifier(learning_rate=0.1,random_state=1,n_estimators=100,min_samples_split=5,min_samples_leaf=1,subsample=0.8,max_depth=3),\n",
    "            AdaBoostClassifier(DecisionTreeClassifier(max_depth=1),n_estimators=200,random_state=1,learning_rate=1)\n",
    "]\n",
    "    #Create training and testing data sets depending on wheather or not they have been generated previously.\n",
    "    if len(data)== 2:\n",
    "        X_train, X_test, y_train, y_test = train_test_split(data[0],data[1],random_state=123)\n",
    "    else:\n",
    "        X_train, X_test, y_train, y_test = data[0],data[1],data[2],data[3]\n",
    "    #Instantiate lists to store each of the models results\n",
    "    accuracy = []\n",
    "    f1 = []\n",
    "    auc = []\n",
    "    recall = []\n",
    "    precision = []\n",
    "    #Run thorugh each of the models to get their performance metrics\n",
    "    for model in models:\n",
    "        clf = model\n",
    "        clf.fit(X_train, y_train)\n",
    "        test_preds = clf.predict(X_test)\n",
    "        f1.append(f1_score(y_test, test_preds,average='macro'))\n",
    "        accuracy.append(accuracy_score(y_test, test_preds))\n",
    "        # auc.append(roc_auc_score(y_test, test_preds,multi_class=\"ovr\" ))\n",
    "        recall.append(recall_score(y_test, test_preds,average='macro'))\n",
    "        precision.append(precision_score(y_test, test_preds,average='macro'))\n",
    "        #Print the model and its report\n",
    "        if verbose:\n",
    "            print('Classification Model: ',model,'\\n')\n",
    "            print(classification_report(y_test, test_preds),'\\n')\n",
    "    #store results in dataframe\n",
    "    results = pd.DataFrame([f1, accuracy, precision,recall],\n",
    "                      index= ['f1','accuracy','precision','recall',],\n",
    "                           columns=['DecisionTree','LogisticRegression','RandomForest','Gradient Boosting','AdaBoostClassifier'])\n",
    "    #Change orientation of the dataframe\n",
    "    return results.transpose()"
   ]
  },
  {
   "cell_type": "markdown",
   "metadata": {},
   "source": [
    "# ML"
   ]
  },
  {
   "cell_type": "code",
   "execution_count": 42,
   "metadata": {},
   "outputs": [],
   "source": [
    "path='/home/o/oananbeh/notebook/Experment2/src/TabTransformer-multiclass_died/'"
   ]
  },
  {
   "cell_type": "code",
   "execution_count": 43,
   "metadata": {},
   "outputs": [],
   "source": [
    "# #connect the SOMTE_DataSet_died with SOMTE_DataSet_discharge\n",
    "# died_DF=pd.read_csv(path+'SOMTE_DataSet_prepare_association_died_0.5_0.7.csv')\n",
    "# died_DF['OUTCOME']=0\n",
    "# discharge_DF=pd.read_csv(path+'SOMTE_DataSet_prepare_association_discharge_0.5_0.7.csv')\n",
    "# discharge_DF['OUTCOME']=1\n",
    "# frames = [died_DF, discharge_DF]\n",
    "# Filal_SMOTE_DataSet=pd.concat(frames)"
   ]
  },
  {
   "cell_type": "code",
   "execution_count": 44,
   "metadata": {},
   "outputs": [],
   "source": [
    "# Filal_SMOTE_DataSet.shape"
   ]
  },
  {
   "cell_type": "code",
   "execution_count": 45,
   "metadata": {},
   "outputs": [],
   "source": [
    "# Filal_SMOTE_DataSet.to_csv(path+'Filal_SMOTE_DataSet.csv',index=False)"
   ]
  },
  {
   "cell_type": "code",
   "execution_count": 46,
   "metadata": {},
   "outputs": [],
   "source": [
    "Filal_SMOTE_DataSet=pd.read_csv(path+'SMOT_died_DataSet.csv')"
   ]
  },
  {
   "cell_type": "code",
   "execution_count": 47,
   "metadata": {},
   "outputs": [
    {
     "name": "stdout",
     "output_type": "stream",
     "text": [
      "Original class counts: Counter({'died=<3': 38, 'died=>3': 38})\n"
     ]
    }
   ],
   "source": [
    "target = Filal_SMOTE_DataSet.OUTCOME\n",
    "print(f\"Original class counts: {Counter(target)}\")"
   ]
  },
  {
   "cell_type": "code",
   "execution_count": 48,
   "metadata": {},
   "outputs": [],
   "source": [
    "ohc_feats_nonNumericalFeatures = pd.get_dummies(Filal_SMOTE_DataSet)\n"
   ]
  },
  {
   "cell_type": "code",
   "execution_count": 49,
   "metadata": {},
   "outputs": [],
   "source": [
    "# ohc_feats_nonNumericalFeatures.to_csv(path+'ohc_feats_Features')"
   ]
  },
  {
   "cell_type": "code",
   "execution_count": 50,
   "metadata": {},
   "outputs": [
    {
     "name": "stdout",
     "output_type": "stream",
     "text": [
      "X_train (53, 91) X_test (23, 91)\n",
      "Original class counts y_train: Counter({'died=<3': 30, 'died=>3': 23})\n",
      "Original class counts y_test: Counter({'died=>3': 15, 'died=<3': 8})\n"
     ]
    }
   ],
   "source": [
    "# load the dataset\n",
    "dataset =  Filal_SMOTE_DataSet\n",
    "# retrieve the array of data\n",
    "data = dataset.values\n",
    "# separate into input and output columns\n",
    "X = data[:, :-1].astype(str)\n",
    "y = data[:, -1].astype(str)\n",
    "# split the dataset into train and test sets\n",
    "X_train, X_test, y_train, y_test = train_test_split(X, y, test_size=0.30, random_state=1)\n",
    "print('X_train',X_train.shape,'X_test',X_test.shape)\n",
    " \n",
    "print(f\"Original class counts y_train: {Counter(y_train)}\")\n",
    "print(f\"Original class counts y_test: {Counter(y_test)}\")\n",
    "# one-hot encode input variables\n",
    "onehot_encoder = OneHotEncoder(handle_unknown='ignore')\n",
    "onehot_encoder.fit(X_train)\n",
    "X_train = onehot_encoder.transform(X_train)\n",
    "X_test = onehot_encoder.transform(X_test)\n",
    "# ordinal encode target variable\n",
    "label_encoder = LabelEncoder()\n",
    "label_encoder.fit(y_train)\n",
    "y_train = label_encoder.transform(y_train)\n",
    "y_test = label_encoder.transform(y_test)\n"
   ]
  },
  {
   "cell_type": "code",
   "execution_count": 51,
   "metadata": {},
   "outputs": [
    {
     "data": {
      "text/html": [
       "<div>\n",
       "<style scoped>\n",
       "    .dataframe tbody tr th:only-of-type {\n",
       "        vertical-align: middle;\n",
       "    }\n",
       "\n",
       "    .dataframe tbody tr th {\n",
       "        vertical-align: top;\n",
       "    }\n",
       "\n",
       "    .dataframe thead th {\n",
       "        text-align: right;\n",
       "    }\n",
       "</style>\n",
       "<table border=\"1\" class=\"dataframe\">\n",
       "  <thead>\n",
       "    <tr style=\"text-align: right;\">\n",
       "      <th></th>\n",
       "      <th>f1</th>\n",
       "      <th>accuracy</th>\n",
       "      <th>precision</th>\n",
       "      <th>recall</th>\n",
       "    </tr>\n",
       "  </thead>\n",
       "  <tbody>\n",
       "    <tr>\n",
       "      <th>Gradient Boosting</th>\n",
       "      <td>0.651515</td>\n",
       "      <td>0.652174</td>\n",
       "      <td>0.694444</td>\n",
       "      <td>0.704167</td>\n",
       "    </tr>\n",
       "    <tr>\n",
       "      <th>RandomForest</th>\n",
       "      <td>0.608696</td>\n",
       "      <td>0.608696</td>\n",
       "      <td>0.670833</td>\n",
       "      <td>0.670833</td>\n",
       "    </tr>\n",
       "    <tr>\n",
       "      <th>DecisionTree</th>\n",
       "      <td>0.580122</td>\n",
       "      <td>0.608696</td>\n",
       "      <td>0.579365</td>\n",
       "      <td>0.583333</td>\n",
       "    </tr>\n",
       "    <tr>\n",
       "      <th>LogisticRegression</th>\n",
       "      <td>0.564394</td>\n",
       "      <td>0.565217</td>\n",
       "      <td>0.647321</td>\n",
       "      <td>0.637500</td>\n",
       "    </tr>\n",
       "    <tr>\n",
       "      <th>AdaBoostClassifier</th>\n",
       "      <td>0.564394</td>\n",
       "      <td>0.565217</td>\n",
       "      <td>0.647321</td>\n",
       "      <td>0.637500</td>\n",
       "    </tr>\n",
       "  </tbody>\n",
       "</table>\n",
       "</div>"
      ],
      "text/plain": [
       "                          f1  accuracy  precision    recall\n",
       "Gradient Boosting   0.651515  0.652174   0.694444  0.704167\n",
       "RandomForest        0.608696  0.608696   0.670833  0.670833\n",
       "DecisionTree        0.580122  0.608696   0.579365  0.583333\n",
       "LogisticRegression  0.564394  0.565217   0.647321  0.637500\n",
       "AdaBoostClassifier  0.564394  0.565217   0.647321  0.637500"
      ]
     },
     "execution_count": 51,
     "metadata": {},
     "output_type": "execute_result"
    }
   ],
   "source": [
    "results = baseline_models(data=[X_train, X_test, y_train, y_test])\n",
    "results.sort_values('f1',ascending=False)"
   ]
  },
  {
   "cell_type": "markdown",
   "metadata": {},
   "source": [
    "# RandomForestClassifier"
   ]
  },
  {
   "cell_type": "code",
   "execution_count": 52,
   "metadata": {},
   "outputs": [],
   "source": [
    "df_train = Filal_SMOTE_DataSet.drop('OUTCOME', axis=1)\n",
    "train_labels = Filal_SMOTE_DataSet['OUTCOME']"
   ]
  },
  {
   "cell_type": "code",
   "execution_count": 53,
   "metadata": {},
   "outputs": [
    {
     "data": {
      "text/plain": [
       "91"
      ]
     },
     "execution_count": 53,
     "metadata": {},
     "output_type": "execute_result"
    }
   ],
   "source": [
    "df_train.shape[1]"
   ]
  },
  {
   "cell_type": "code",
   "execution_count": 54,
   "metadata": {},
   "outputs": [],
   "source": [
    "encoders = []\n",
    "features = []\n",
    "for i in range(91):\n",
    "    encoder_i = OneHotEncoder(handle_unknown='ignore')\n",
    "    i_column = df_train.columns[i]\n",
    "    encoder_i.fit(df_train[i_column].values.reshape(-1, 1))\n",
    "    encoded_feature = encoder_i.transform(df_train[i_column].values.reshape(-1, 1))\n",
    "    encoded_feature = encoded_feature.toarray()\n",
    "    features.append(encoded_feature)\n",
    "    encoders.append(encoder_i)\n",
    "\n",
    "def get_oh(df):\n",
    "    features_test = []\n",
    "    for i in range(91):\n",
    "        encoder_i = encoders[i]\n",
    "        i_column = Filal_SMOTE_DataSet.columns[i]\n",
    "        encoded_test = encoder_i.transform(df[i_column].values.reshape(-1, 1))\n",
    "        encoded_test = encoded_test.toarray()\n",
    "        features_test.append(encoded_test)\n",
    "    return  np.concatenate(features_test, axis=1)\n",
    "\n",
    "train_features = np.concatenate(features, axis=1)\n"
   ]
  },
  {
   "cell_type": "code",
   "execution_count": 55,
   "metadata": {},
   "outputs": [
    {
     "data": {
      "text/plain": [
       "((76, 1294), (76,))"
      ]
     },
     "execution_count": 55,
     "metadata": {},
     "output_type": "execute_result"
    }
   ],
   "source": [
    "train_features.shape, train_labels.values.shape"
   ]
  },
  {
   "cell_type": "code",
   "execution_count": 56,
   "metadata": {},
   "outputs": [],
   "source": [
    "# separate into input and output columns\n",
    "X = train_features\n",
    "y = train_labels\n",
    "# split the dataset into train and test sets\n",
    "X_train, X_test, y_train, y_test = train_test_split(X, y, test_size=0.30, random_state=1)\n",
    "# one-hot encode input variables\n",
    "# ordinal encode target variable\n",
    "label_encoder = LabelEncoder()\n",
    "label_encoder.fit(y_train)\n",
    "y_train = label_encoder.transform(y_train)\n",
    "y_test = label_encoder.transform(y_test)"
   ]
  },
  {
   "cell_type": "code",
   "execution_count": 57,
   "metadata": {},
   "outputs": [],
   "source": [
    "clf = RandomForestClassifier()\n",
    "clf.fit(X_train, y_train)\n",
    "# save the model\n",
    "pickle.dump(clf, open(path+Modelname, 'wb'))"
   ]
  }
 ],
 "metadata": {
  "kernelspec": {
   "display_name": "Python 3 (ipykernel)",
   "language": "python",
   "name": "python3"
  },
  "language_info": {
   "codemirror_mode": {
    "name": "ipython",
    "version": 3
   },
   "file_extension": ".py",
   "mimetype": "text/x-python",
   "name": "python",
   "nbconvert_exporter": "python",
   "pygments_lexer": "ipython3",
   "version": "3.9.12 (main, Jun  1 2022, 11:38:51) \n[GCC 7.5.0]"
  },
  "vscode": {
   "interpreter": {
    "hash": "b0ec3465f5306ad2571dd352c55f43c441d7efdf3cf80b3e3c9f62414cf668dd"
   }
  }
 },
 "nbformat": 4,
 "nbformat_minor": 2
}
